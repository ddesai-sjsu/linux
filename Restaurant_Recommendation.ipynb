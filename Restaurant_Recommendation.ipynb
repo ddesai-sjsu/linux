{
  "nbformat": 4,
  "nbformat_minor": 0,
  "metadata": {
    "colab": {
      "name": "Restaurant Recommendation.ipynb",
      "provenance": [],
      "collapsed_sections": [],
      "mount_file_id": "1nyXxBMLcENx2sE1za_gCU2_CG8hegQmG",
      "authorship_tag": "ABX9TyOc9OmjSNcoLUVrbH5L7TRT",
      "include_colab_link": true
    },
    "kernelspec": {
      "name": "python3",
      "display_name": "Python 3"
    },
    "language_info": {
      "name": "python"
    },
    "accelerator": "GPU"
  },
  "cells": [
    {
      "cell_type": "markdown",
      "metadata": {
        "id": "view-in-github",
        "colab_type": "text"
      },
      "source": [
        "<a href=\"https://colab.research.google.com/github/ddesai-sjsu/linux/blob/master/Restaurant_Recommendation.ipynb\" target=\"_parent\"><img src=\"https://colab.research.google.com/assets/colab-badge.svg\" alt=\"Open In Colab\"/></a>"
      ]
    },
    {
      "cell_type": "markdown",
      "metadata": {
        "id": "9XnZka57bGgY"
      },
      "source": [
        "# Amazon Review \n",
        "Recommendation Engine\n",
        "\n",
        "**Data Narrative:**\n",
        "\n",
        "Each record in the dataset contains the review text, the review title, the star   rating, an anonymized reviewer ID, an anonymized product ID and the  coarse-grained product category (e.g. ‘books’, ‘appliances’, etc.) \n",
        "\n",
        "\n",
        "reviewer_id - ID of the reviewer\n",
        "\n",
        "product_id - ID of the product\n",
        "\n",
        "review_body - text of the review\n",
        "\n",
        "stars - rating of the product\n",
        "\n",
        "\n",
        "review_title - summary of the review\n",
        "\n",
        "product_category - category of product\n",
        "\n",
        "We have used product_id,reviewerID and product_id fields to provide product recommendations for the user based on the rating of the reviewer of a product.\n",
        "\n",
        "We tried 2 recommendation techniques :\n",
        "\n",
        "1-\tItem Based Collaberative filtering (Item-Item recommedation)\n",
        "\n",
        "2-\tModel-based collaborative filtering system\n",
        "\n",
        "\n"
      ]
    },
    {
      "cell_type": "markdown",
      "metadata": {
        "id": "2fb6a8ENbOD_"
      },
      "source": [
        "## Installing required libraries"
      ]
    },
    {
      "cell_type": "code",
      "metadata": {
        "colab": {
          "base_uri": "https://localhost:8080/"
        },
        "id": "8_s5xcVzKEmG",
        "outputId": "2ff01639-3967-43d1-c6ba-fda57b7d7a29"
      },
      "source": [
        "!pip install surprise"
      ],
      "execution_count": null,
      "outputs": [
        {
          "output_type": "stream",
          "name": "stdout",
          "text": [
            "Requirement already satisfied: surprise in /usr/local/lib/python3.7/dist-packages (0.1)\n",
            "Requirement already satisfied: scikit-surprise in /usr/local/lib/python3.7/dist-packages (from surprise) (1.1.1)\n",
            "Requirement already satisfied: six>=1.10.0 in /usr/local/lib/python3.7/dist-packages (from scikit-surprise->surprise) (1.15.0)\n",
            "Requirement already satisfied: scipy>=1.0.0 in /usr/local/lib/python3.7/dist-packages (from scikit-surprise->surprise) (1.4.1)\n",
            "Requirement already satisfied: numpy>=1.11.2 in /usr/local/lib/python3.7/dist-packages (from scikit-surprise->surprise) (1.19.5)\n",
            "Requirement already satisfied: joblib>=0.11 in /usr/local/lib/python3.7/dist-packages (from scikit-surprise->surprise) (1.1.0)\n"
          ]
        }
      ]
    },
    {
      "cell_type": "markdown",
      "metadata": {
        "id": "JHYINAHbbRP9"
      },
      "source": [
        "## Importing required libraries"
      ]
    },
    {
      "cell_type": "code",
      "metadata": {
        "id": "fkDqbm-UH_o2"
      },
      "source": [
        "import pandas as pd\n",
        "from surprise import *\n",
        "from surprise import Dataset\n",
        "from surprise import accuracy\n",
        "from surprise import Reader\n",
        "import os\n",
        "from surprise.model_selection import train_test_split\n",
        "import pickle\n",
        "from matplotlib import pyplot as plt\n",
        "import seaborn as sns\n"
      ],
      "execution_count": 1,
      "outputs": []
    },
    {
      "cell_type": "markdown",
      "metadata": {
        "id": "30qjbyQPbUVu"
      },
      "source": [
        "## Preprocessing Data"
      ]
    },
    {
      "cell_type": "code",
      "metadata": {
        "id": "YBI8giegIGiy",
        "colab": {
          "base_uri": "https://localhost:8080/",
          "height": 424
        },
        "outputId": "aa20b0c4-8010-41f2-bb6d-757d6a26632f"
      },
      "source": [
        "df=pd.read_csv('/content/my_file.csv')\n",
        "df"
      ],
      "execution_count": 2,
      "outputs": [
        {
          "output_type": "execute_result",
          "data": {
            "text/html": [
              "<div>\n",
              "<style scoped>\n",
              "    .dataframe tbody tr th:only-of-type {\n",
              "        vertical-align: middle;\n",
              "    }\n",
              "\n",
              "    .dataframe tbody tr th {\n",
              "        vertical-align: top;\n",
              "    }\n",
              "\n",
              "    .dataframe thead th {\n",
              "        text-align: right;\n",
              "    }\n",
              "</style>\n",
              "<table border=\"1\" class=\"dataframe\">\n",
              "  <thead>\n",
              "    <tr style=\"text-align: right;\">\n",
              "      <th></th>\n",
              "      <th>Unnamed: 0</th>\n",
              "      <th>user_id</th>\n",
              "      <th>business_id</th>\n",
              "      <th>review_stars</th>\n",
              "    </tr>\n",
              "  </thead>\n",
              "  <tbody>\n",
              "    <tr>\n",
              "      <th>0</th>\n",
              "      <td>0</td>\n",
              "      <td>ak0TdVmGKo4pwqdJSTLwWw</td>\n",
              "      <td>buF9druCkbuXLX526sGELQ</td>\n",
              "      <td>4</td>\n",
              "    </tr>\n",
              "    <tr>\n",
              "      <th>1</th>\n",
              "      <td>1</td>\n",
              "      <td>YoVfDbnISlW0f7abNQACIg</td>\n",
              "      <td>RA4V8pr014UyUbDvI-LW2A</td>\n",
              "      <td>4</td>\n",
              "    </tr>\n",
              "    <tr>\n",
              "      <th>2</th>\n",
              "      <td>2</td>\n",
              "      <td>eC5evKn1TWDyHCyQAwguUw</td>\n",
              "      <td>_sS2LBIGNT5NQb6PD1Vtjw</td>\n",
              "      <td>5</td>\n",
              "    </tr>\n",
              "    <tr>\n",
              "      <th>3</th>\n",
              "      <td>3</td>\n",
              "      <td>SFQ1jcnGguO0LYWnbbftAA</td>\n",
              "      <td>0AzLzHfOJgL7ROwhdww2ew</td>\n",
              "      <td>2</td>\n",
              "    </tr>\n",
              "    <tr>\n",
              "      <th>4</th>\n",
              "      <td>4</td>\n",
              "      <td>0kA0PAJ8QFMeveQWHFqz2A</td>\n",
              "      <td>8zehGz9jnxPqXtOc7KaJxA</td>\n",
              "      <td>4</td>\n",
              "    </tr>\n",
              "    <tr>\n",
              "      <th>...</th>\n",
              "      <td>...</td>\n",
              "      <td>...</td>\n",
              "      <td>...</td>\n",
              "      <td>...</td>\n",
              "    </tr>\n",
              "    <tr>\n",
              "      <th>1699995</th>\n",
              "      <td>1699995</td>\n",
              "      <td>DCqK3QO1HiO_HMMAjGQWXg</td>\n",
              "      <td>gFwIUy6xBvG1M0VTfgZZFw</td>\n",
              "      <td>5</td>\n",
              "    </tr>\n",
              "    <tr>\n",
              "      <th>1699996</th>\n",
              "      <td>1699996</td>\n",
              "      <td>eQhK6dajPnWo4eQj6-Oy4g</td>\n",
              "      <td>Ag89Kt5lObftTZG7yPCMsQ</td>\n",
              "      <td>4</td>\n",
              "    </tr>\n",
              "    <tr>\n",
              "      <th>1699997</th>\n",
              "      <td>1699997</td>\n",
              "      <td>ae5PRyJfV6wJ8tD1IsR8fA</td>\n",
              "      <td>xLEyXF9LCaoUxi_MgW3Nrw</td>\n",
              "      <td>1</td>\n",
              "    </tr>\n",
              "    <tr>\n",
              "      <th>1699998</th>\n",
              "      <td>1699998</td>\n",
              "      <td>3bJ2zyYx2HbpxvedNmp8Gw</td>\n",
              "      <td>lFt7w7weA2pwp45Ulvaevg</td>\n",
              "      <td>1</td>\n",
              "    </tr>\n",
              "    <tr>\n",
              "      <th>1699999</th>\n",
              "      <td>1699999</td>\n",
              "      <td>3fXolX3lt2XUEnmFCjhF4Q</td>\n",
              "      <td>QSDbe23wibJ_8izWZaTh4A</td>\n",
              "      <td>5</td>\n",
              "    </tr>\n",
              "  </tbody>\n",
              "</table>\n",
              "<p>1700000 rows × 4 columns</p>\n",
              "</div>"
            ],
            "text/plain": [
              "         Unnamed: 0  ... review_stars\n",
              "0                 0  ...            4\n",
              "1                 1  ...            4\n",
              "2                 2  ...            5\n",
              "3                 3  ...            2\n",
              "4                 4  ...            4\n",
              "...             ...  ...          ...\n",
              "1699995     1699995  ...            5\n",
              "1699996     1699996  ...            4\n",
              "1699997     1699997  ...            1\n",
              "1699998     1699998  ...            1\n",
              "1699999     1699999  ...            5\n",
              "\n",
              "[1700000 rows x 4 columns]"
            ]
          },
          "metadata": {},
          "execution_count": 2
        }
      ]
    },
    {
      "cell_type": "code",
      "metadata": {
        "id": "tMQGbFd0I7aj"
      },
      "source": [
        "df=df[['user_id','business_id','review_stars']]\n",
        "df.columns=['user_id','business_id','stars']"
      ],
      "execution_count": 3,
      "outputs": []
    },
    {
      "cell_type": "markdown",
      "metadata": {
        "id": "BCqKPGitO2ox"
      },
      "source": [
        "**Data Visualization**\n",
        "\n",
        "Checking the distribution of rating:\n"
      ]
    },
    {
      "cell_type": "code",
      "metadata": {
        "colab": {
          "base_uri": "https://localhost:8080/",
          "height": 458
        },
        "id": "lGpQ9WhvPzKq",
        "outputId": "91341f56-5b10-4d2c-a65e-ccd3d356a76f"
      },
      "source": [
        "\n",
        "with sns.axes_style('white'):\n",
        "    g = sns.factorplot(\"stars\", data=df, aspect=2.0,kind='count')\n",
        "    g.set_ylabels(\"Total number of ratings\")"
      ],
      "execution_count": 4,
      "outputs": [
        {
          "output_type": "stream",
          "name": "stderr",
          "text": [
            "/usr/local/lib/python3.7/dist-packages/seaborn/categorical.py:3717: UserWarning: The `factorplot` function has been renamed to `catplot`. The original name will be removed in a future release. Please update your code. Note that the default `kind` in `factorplot` (`'point'`) has changed `'strip'` in `catplot`.\n",
            "  warnings.warn(msg)\n",
            "/usr/local/lib/python3.7/dist-packages/seaborn/_decorators.py:43: FutureWarning: Pass the following variable as a keyword arg: x. From version 0.12, the only valid positional argument will be `data`, and passing other arguments without an explicit keyword will result in an error or misinterpretation.\n",
            "  FutureWarning\n"
          ]
        },
        {
          "output_type": "display_data",
          "data": {
            "image/png": "[encoded data removed]",
            "text/plain": [
              "<Figure size 720x360 with 1 Axes>"
            ]
          },
          "metadata": {}
        }
      ]
    },
    {
      "cell_type": "markdown",
      "metadata": {
        "id": "4dmdl_CTV_JK"
      },
      "source": [
        "Finding most popular products"
      ]
    },
    {
      "cell_type": "code",
      "metadata": {
        "colab": {
          "base_uri": "https://localhost:8080/",
          "height": 441
        },
        "id": "9BOa3lSjThs-",
        "outputId": "1ac413c8-1e3b-4c35-9116-7ca425c963ab"
      },
      "source": [
        "new_df=df.groupby(\"business_id\").filter(lambda x:x['stars'].count() >=2)\n",
        "popular_products = pd.DataFrame(new_df.groupby('business_id')['stars'].count())\n",
        "most_popular = popular_products.sort_values('stars', ascending=False)\n",
        "most_popular.head(30).plot(kind = \"bar\")\n"
      ],
      "execution_count": null,
      "outputs": [
        {
          "output_type": "execute_result",
          "data": {
            "text/plain": [
              "<matplotlib.axes._subplots.AxesSubplot at 0x7f39e95ac450>"
            ]
          },
          "metadata": {},
          "execution_count": 13
        },
        {
          "output_type": "display_data",
          "data": {
            "image/png": "[encoded data removed]",
            "text/plain": [
              "<Figure size 432x288 with 1 Axes>"
            ]
          },
          "metadata": {
            "needs_background": "light"
          }
        }
      ]
    },
    {
      "cell_type": "code",
      "metadata": {
        "colab": {
          "base_uri": "https://localhost:8080/",
          "height": 419
        },
        "id": "xIHI5zKeVRa9",
        "outputId": "14619c0c-dcdf-407f-baa5-f4958d6daac8"
      },
      "source": [
        "df"
      ],
      "execution_count": null,
      "outputs": [
        {
          "output_type": "execute_result",
          "data": {
            "text/html": [
              "<div>\n",
              "<style scoped>\n",
              "    .dataframe tbody tr th:only-of-type {\n",
              "        vertical-align: middle;\n",
              "    }\n",
              "\n",
              "    .dataframe tbody tr th {\n",
              "        vertical-align: top;\n",
              "    }\n",
              "\n",
              "    .dataframe thead th {\n",
              "        text-align: right;\n",
              "    }\n",
              "</style>\n",
              "<table border=\"1\" class=\"dataframe\">\n",
              "  <thead>\n",
              "    <tr style=\"text-align: right;\">\n",
              "      <th></th>\n",
              "      <th>user_id</th>\n",
              "      <th>business_id</th>\n",
              "      <th>stars</th>\n",
              "    </tr>\n",
              "  </thead>\n",
              "  <tbody>\n",
              "    <tr>\n",
              "      <th>0</th>\n",
              "      <td>ak0TdVmGKo4pwqdJSTLwWw</td>\n",
              "      <td>buF9druCkbuXLX526sGELQ</td>\n",
              "      <td>4</td>\n",
              "    </tr>\n",
              "    <tr>\n",
              "      <th>1</th>\n",
              "      <td>YoVfDbnISlW0f7abNQACIg</td>\n",
              "      <td>RA4V8pr014UyUbDvI-LW2A</td>\n",
              "      <td>4</td>\n",
              "    </tr>\n",
              "    <tr>\n",
              "      <th>2</th>\n",
              "      <td>eC5evKn1TWDyHCyQAwguUw</td>\n",
              "      <td>_sS2LBIGNT5NQb6PD1Vtjw</td>\n",
              "      <td>5</td>\n",
              "    </tr>\n",
              "    <tr>\n",
              "      <th>3</th>\n",
              "      <td>SFQ1jcnGguO0LYWnbbftAA</td>\n",
              "      <td>0AzLzHfOJgL7ROwhdww2ew</td>\n",
              "      <td>2</td>\n",
              "    </tr>\n",
              "    <tr>\n",
              "      <th>4</th>\n",
              "      <td>0kA0PAJ8QFMeveQWHFqz2A</td>\n",
              "      <td>8zehGz9jnxPqXtOc7KaJxA</td>\n",
              "      <td>4</td>\n",
              "    </tr>\n",
              "    <tr>\n",
              "      <th>...</th>\n",
              "      <td>...</td>\n",
              "      <td>...</td>\n",
              "      <td>...</td>\n",
              "    </tr>\n",
              "    <tr>\n",
              "      <th>1699995</th>\n",
              "      <td>DCqK3QO1HiO_HMMAjGQWXg</td>\n",
              "      <td>gFwIUy6xBvG1M0VTfgZZFw</td>\n",
              "      <td>5</td>\n",
              "    </tr>\n",
              "    <tr>\n",
              "      <th>1699996</th>\n",
              "      <td>eQhK6dajPnWo4eQj6-Oy4g</td>\n",
              "      <td>Ag89Kt5lObftTZG7yPCMsQ</td>\n",
              "      <td>4</td>\n",
              "    </tr>\n",
              "    <tr>\n",
              "      <th>1699997</th>\n",
              "      <td>ae5PRyJfV6wJ8tD1IsR8fA</td>\n",
              "      <td>xLEyXF9LCaoUxi_MgW3Nrw</td>\n",
              "      <td>1</td>\n",
              "    </tr>\n",
              "    <tr>\n",
              "      <th>1699998</th>\n",
              "      <td>3bJ2zyYx2HbpxvedNmp8Gw</td>\n",
              "      <td>lFt7w7weA2pwp45Ulvaevg</td>\n",
              "      <td>1</td>\n",
              "    </tr>\n",
              "    <tr>\n",
              "      <th>1699999</th>\n",
              "      <td>3fXolX3lt2XUEnmFCjhF4Q</td>\n",
              "      <td>QSDbe23wibJ_8izWZaTh4A</td>\n",
              "      <td>5</td>\n",
              "    </tr>\n",
              "  </tbody>\n",
              "</table>\n",
              "<p>1700000 rows × 3 columns</p>\n",
              "</div>"
            ],
            "text/plain": [
              "                        user_id             business_id  stars\n",
              "0        ak0TdVmGKo4pwqdJSTLwWw  buF9druCkbuXLX526sGELQ      4\n",
              "1        YoVfDbnISlW0f7abNQACIg  RA4V8pr014UyUbDvI-LW2A      4\n",
              "2        eC5evKn1TWDyHCyQAwguUw  _sS2LBIGNT5NQb6PD1Vtjw      5\n",
              "3        SFQ1jcnGguO0LYWnbbftAA  0AzLzHfOJgL7ROwhdww2ew      2\n",
              "4        0kA0PAJ8QFMeveQWHFqz2A  8zehGz9jnxPqXtOc7KaJxA      4\n",
              "...                         ...                     ...    ...\n",
              "1699995  DCqK3QO1HiO_HMMAjGQWXg  gFwIUy6xBvG1M0VTfgZZFw      5\n",
              "1699996  eQhK6dajPnWo4eQj6-Oy4g  Ag89Kt5lObftTZG7yPCMsQ      4\n",
              "1699997  ae5PRyJfV6wJ8tD1IsR8fA  xLEyXF9LCaoUxi_MgW3Nrw      1\n",
              "1699998  3bJ2zyYx2HbpxvedNmp8Gw  lFt7w7weA2pwp45Ulvaevg      1\n",
              "1699999  3fXolX3lt2XUEnmFCjhF4Q  QSDbe23wibJ_8izWZaTh4A      5\n",
              "\n",
              "[1700000 rows x 3 columns]"
            ]
          },
          "metadata": {},
          "execution_count": 14
        }
      ]
    },
    {
      "cell_type": "code",
      "metadata": {
        "id": "hWMpYrBeJqAM"
      },
      "source": [
        "df_new=df[['user_id','business_id','stars']]"
      ],
      "execution_count": 5,
      "outputs": []
    },
    {
      "cell_type": "code",
      "metadata": {
        "id": "yqO1bzB_Nvog"
      },
      "source": [
        "df_new.columns=['userID','itemID','rating']"
      ],
      "execution_count": 6,
      "outputs": []
    },
    {
      "cell_type": "markdown",
      "metadata": {
        "id": "sEO-bss5bYp5"
      },
      "source": [
        "## Converting Data to data type that surprise module can consume"
      ]
    },
    {
      "cell_type": "code",
      "metadata": {
        "id": "4MH6W30wIpjH"
      },
      "source": [
        "reader = Reader(rating_scale=(1, 5))\n",
        "data = Dataset.load_from_df(df_new,reader)"
      ],
      "execution_count": 7,
      "outputs": []
    },
    {
      "cell_type": "code",
      "metadata": {
        "id": "tq7Qv2q9IvwK"
      },
      "source": [
        "trainset, testset = train_test_split(data, test_size=0.3,random_state=10)"
      ],
      "execution_count": 8,
      "outputs": []
    },
    {
      "cell_type": "code",
      "metadata": {
        "colab": {
          "base_uri": "https://localhost:8080/"
        },
        "id": "tbfQOYP2YDFP",
        "outputId": "e7b53ca3-697b-4bc9-f38e-5bb598274775"
      },
      "source": [
        "trainset"
      ],
      "execution_count": 9,
      "outputs": [
        {
          "output_type": "execute_result",
          "data": {
            "text/plain": [
              "<surprise.trainset.Trainset at 0x7f9c1ccd5b10>"
            ]
          },
          "metadata": {},
          "execution_count": 9
        }
      ]
    },
    {
      "cell_type": "code",
      "metadata": {
        "id": "8AdF21KGKSax"
      },
      "source": [
        "acuuracy_table={}"
      ],
      "execution_count": 10,
      "outputs": []
    },
    {
      "cell_type": "markdown",
      "metadata": {
        "id": "xZzniMq0bhYR"
      },
      "source": [
        "# training the model on multiple types\n",
        "\n",
        "\n",
        "1.  'BaselineOnly'\n",
        "2.  'CoClustering'\n",
        "3.  'KNNBaseline'\n",
        "4.  'KNNBasic'\n",
        "5.  'KNNWithMeans'\n",
        "6.  'KNNWithZScore'\n",
        "7.  'NMF': \n",
        "8.  'NormalPredictor': \n",
        "9.  'SVD':\n",
        "10. 'SVDpp': \n",
        "11. 'SlopeOne':"
      ]
    },
    {
      "cell_type": "code",
      "metadata": {
        "colab": {
          "base_uri": "https://localhost:8080/"
        },
        "id": "3COEBhn9I1TU",
        "outputId": "3010e77d-c2d5-45ef-ec76-c1d4250dc675"
      },
      "source": [
        "# algo = KNNWithMeans(k=5, sim_options={'name': 'pearson_baseline', 'user_based': False})\n",
        "# algo.fit(trainset)\n",
        "# test_pred = algo.test(testset)\n",
        "# accuracy_model=round(float(str(accuracy.rmse(test_pred, verbose=True))[0:]),4)\n",
        "# acuuracy_table['KNNWithMeans']=accuracy_model"
      ],
      "execution_count": null,
      "outputs": [
        {
          "output_type": "stream",
          "name": "stdout",
          "text": [
            "Estimating biases using als...\n",
            "Computing the pearson_baseline similarity matrix...\n"
          ]
        }
      ]
    },
    {
      "cell_type": "code",
      "metadata": {
        "id": "dujIBFkALHPC",
        "colab": {
          "base_uri": "https://localhost:8080/"
        },
        "outputId": "87d9f5ce-00d1-4f91-c63b-1f1933978690"
      },
      "source": [
        "algo = NormalPredictor( )\n",
        "algo.fit(trainset)\n",
        "test_pred = algo.test(testset)\n",
        "accuracy_model=round(float(str(accuracy.rmse(test_pred, verbose=True))[0:]),4)\n",
        "accuracy_model\n",
        "acuuracy_table['NormalPredictor']=accuracy_model"
      ],
      "execution_count": 11,
      "outputs": [
        {
          "output_type": "stream",
          "name": "stdout",
          "text": [
            "RMSE: 1.8876\n"
          ]
        }
      ]
    },
    {
      "cell_type": "code",
      "metadata": {
        "colab": {
          "base_uri": "https://localhost:8080/"
        },
        "id": "aw0g9MMD9tBb",
        "outputId": "93705508-7b44-4e90-9d5a-93949cf3c8af"
      },
      "source": [
        "algo = BaselineOnly()\n",
        "algo.fit(trainset)\n",
        "test_pred = algo.test(testset)\n",
        "accuracy_model=round(float(str(accuracy.rmse(test_pred, verbose=True))[0:]),4)\n",
        "accuracy_model\n",
        "acuuracy_table['BaselineOnly']=accuracy_model"
      ],
      "execution_count": 12,
      "outputs": [
        {
          "output_type": "stream",
          "name": "stdout",
          "text": [
            "Estimating biases using als...\n",
            "RMSE: 1.2989\n"
          ]
        }
      ]
    },
    {
      "cell_type": "code",
      "metadata": {
        "colab": {
          "base_uri": "https://localhost:8080/"
        },
        "id": "90PqoP3F69c3",
        "outputId": "080c3a06-6b12-48b3-ea8f-d70a907181d6"
      },
      "source": [
        "# algo = KNNBasic()\n",
        "# algo.fit(trainset)\n",
        "# test_pred = algo.test(testset)\n",
        "# accuracy_model=round(float(str(accuracy.rmse(test_pred, verbose=True))[0:]),4)\n",
        "# accuracy_model\n",
        "# acuuracy_table['KNNBasic']=accuracy_model"
      ],
      "execution_count": null,
      "outputs": [
        {
          "output_type": "stream",
          "name": "stdout",
          "text": [
            "Computing the msd similarity matrix...\n",
            "Done computing similarity matrix.\n",
            "RMSE: 1.2390\n"
          ]
        }
      ]
    },
    {
      "cell_type": "code",
      "metadata": {
        "colab": {
          "base_uri": "https://localhost:8080/"
        },
        "id": "9fIY5JF_9-qm",
        "outputId": "b850a477-fcd9-4967-fb47-7c23c5f2fb80"
      },
      "source": [
        "algo = KNNWithZScore()\n",
        "algo.fit(trainset)\n",
        "test_pred = algo.test(testset)\n",
        "accuracy_model=round(float(str(accuracy.rmse(test_pred, verbose=True))[0:]),4)\n",
        "accuracy_model\n",
        "acuuracy_table['KNNWithZScore']=accuracy_model"
      ],
      "execution_count": null,
      "outputs": [
        {
          "output_type": "stream",
          "name": "stdout",
          "text": [
            "Computing the msd similarity matrix...\n"
          ]
        }
      ]
    },
    {
      "cell_type": "code",
      "metadata": {
        "colab": {
          "base_uri": "https://localhost:8080/"
        },
        "id": "hxy5vJMi-EA6",
        "outputId": "c3c71f98-d985-4b17-f4c3-bca02733c83d"
      },
      "source": [
        "algo = KNNBaseline()\n",
        "algo.fit(trainset)\n",
        "test_pred = algo.test(testset)\n",
        "accuracy_model=round(float(str(accuracy.rmse(test_pred, verbose=True))[0:]),4)\n",
        "accuracy_model\n",
        "acuuracy_table['KNNBaseline']=accuracy_model"
      ],
      "execution_count": null,
      "outputs": [
        {
          "output_type": "stream",
          "name": "stdout",
          "text": [
            "Estimating biases using als...\n",
            "Computing the msd similarity matrix...\n",
            "Done computing similarity matrix.\n",
            "RMSE: 1.2193\n"
          ]
        }
      ]
    },
    {
      "cell_type": "code",
      "metadata": {
        "colab": {
          "base_uri": "https://localhost:8080/"
        },
        "id": "RUSqbzog-MdW",
        "outputId": "d2e467b7-f1b0-44bd-e834-b69c5a859909"
      },
      "source": [
        "algo = SVD()\n",
        "algo.fit(trainset)\n",
        "test_pred = algo.test(testset)\n",
        "accuracy_model=round(float(str(accuracy.rmse(test_pred, verbose=True))[0:]),4)\n",
        "accuracy_model\n",
        "acuuracy_table['SVD']=accuracy_model"
      ],
      "execution_count": null,
      "outputs": [
        {
          "output_type": "stream",
          "name": "stdout",
          "text": [
            "RMSE: 1.2205\n"
          ]
        }
      ]
    },
    {
      "cell_type": "code",
      "metadata": {
        "colab": {
          "base_uri": "https://localhost:8080/"
        },
        "id": "4RgNg2Mu-TPI",
        "outputId": "b8a17876-c17d-4ddd-bb0d-049cde9a708a"
      },
      "source": [
        "algo =SVDpp()\n",
        "algo.fit(trainset)\n",
        "test_pred = algo.test(testset)\n",
        "accuracy_model=round(float(str(accuracy.rmse(test_pred, verbose=True))[0:]),4)\n",
        "accuracy_model\n",
        "acuuracy_table['SVDpp']=accuracy_model"
      ],
      "execution_count": null,
      "outputs": [
        {
          "output_type": "stream",
          "name": "stdout",
          "text": [
            "RMSE: 1.2178\n"
          ]
        }
      ]
    },
    {
      "cell_type": "code",
      "metadata": {
        "id": "FzYhTRP6JN8G"
      },
      "source": [
        "pickle.dump(algo, open('SVDpp.pkl','wb'))\n"
      ],
      "execution_count": null,
      "outputs": []
    },
    {
      "cell_type": "code",
      "metadata": {
        "colab": {
          "base_uri": "https://localhost:8080/"
        },
        "id": "teD_uvft-Zj2",
        "outputId": "dc0f6386-8b0e-4546-b947-3f917258bf5b"
      },
      "source": [
        "algo =NMF()\n",
        "algo.fit(trainset)\n",
        "test_pred = algo.test(testset)\n",
        "accuracy_model=round(float(str(accuracy.rmse(test_pred, verbose=True))[0:]),4)\n",
        "accuracy_model\n",
        "acuuracy_table['NMF']=accuracy_model"
      ],
      "execution_count": null,
      "outputs": [
        {
          "output_type": "stream",
          "name": "stdout",
          "text": [
            "RMSE: 1.3366\n"
          ]
        }
      ]
    },
    {
      "cell_type": "code",
      "metadata": {
        "colab": {
          "base_uri": "https://localhost:8080/"
        },
        "id": "Vj3hHm7v-eCX",
        "outputId": "9e94e057-eb1f-453d-bd0a-3c307fc7d022"
      },
      "source": [
        "algo =SlopeOne()\n",
        "algo.fit(trainset)\n",
        "test_pred = algo.test(testset)\n",
        "accuracy_model=round(float(str(accuracy.rmse(test_pred, verbose=True))[0:]),4)\n",
        "accuracy_model\n",
        "acuuracy_table['SlopeOne']=accuracy_model"
      ],
      "execution_count": null,
      "outputs": [
        {
          "output_type": "stream",
          "name": "stdout",
          "text": [
            "RMSE: 1.3152\n"
          ]
        }
      ]
    },
    {
      "cell_type": "code",
      "metadata": {
        "colab": {
          "base_uri": "https://localhost:8080/"
        },
        "id": "5FG7flmA-i4R",
        "outputId": "1a075b6f-e9ff-4868-f303-4dd1fdd863d8"
      },
      "source": [
        "algo =CoClustering()\n",
        "algo.fit(trainset)\n",
        "test_pred = algo.test(testset)\n",
        "accuracy_model=round(float(str(accuracy.rmse(test_pred, verbose=True))[0:]),4)\n",
        "accuracy_model\n",
        "acuuracy_table['CoClustering']=accuracy_model"
      ],
      "execution_count": null,
      "outputs": [
        {
          "output_type": "stream",
          "name": "stdout",
          "text": [
            "RMSE: 1.3452\n"
          ]
        }
      ]
    },
    {
      "cell_type": "code",
      "metadata": {
        "colab": {
          "base_uri": "https://localhost:8080/",
          "height": 419
        },
        "id": "Wfy9C3MJR2Aa",
        "outputId": "fe5f951f-807c-4267-a2ba-66d546a44158"
      },
      "source": [
        "df_new"
      ],
      "execution_count": null,
      "outputs": [
        {
          "output_type": "execute_result",
          "data": {
            "text/html": [
              "<div>\n",
              "<style scoped>\n",
              "    .dataframe tbody tr th:only-of-type {\n",
              "        vertical-align: middle;\n",
              "    }\n",
              "\n",
              "    .dataframe tbody tr th {\n",
              "        vertical-align: top;\n",
              "    }\n",
              "\n",
              "    .dataframe thead th {\n",
              "        text-align: right;\n",
              "    }\n",
              "</style>\n",
              "<table border=\"1\" class=\"dataframe\">\n",
              "  <thead>\n",
              "    <tr style=\"text-align: right;\">\n",
              "      <th></th>\n",
              "      <th>userID</th>\n",
              "      <th>itemID</th>\n",
              "      <th>rating</th>\n",
              "    </tr>\n",
              "  </thead>\n",
              "  <tbody>\n",
              "    <tr>\n",
              "      <th>0</th>\n",
              "      <td>rLtl8ZkDX5vH5nAx9C3q5Q</td>\n",
              "      <td>9yKzy9PApeiPPOUJEtnvkg</td>\n",
              "      <td>5</td>\n",
              "    </tr>\n",
              "    <tr>\n",
              "      <th>1</th>\n",
              "      <td>0a2KyEL0d3Yb1V6aivbIuQ</td>\n",
              "      <td>ZRJwVLyzEJq1VAihDhYiow</td>\n",
              "      <td>5</td>\n",
              "    </tr>\n",
              "    <tr>\n",
              "      <th>2</th>\n",
              "      <td>0hT2KtfLiobPvh6cDC8JQg</td>\n",
              "      <td>6oRAC4uyJCsJl1X0WZpVSA</td>\n",
              "      <td>4</td>\n",
              "    </tr>\n",
              "    <tr>\n",
              "      <th>3</th>\n",
              "      <td>uZetl9T0NcROGOyFfughhg</td>\n",
              "      <td>_1QQZuf4zZOyFCvXc0o6Vg</td>\n",
              "      <td>5</td>\n",
              "    </tr>\n",
              "    <tr>\n",
              "      <th>4</th>\n",
              "      <td>vYmM4KTsC8ZfQBg-j5MWkw</td>\n",
              "      <td>6ozycU1RpktNG2-1BroVtw</td>\n",
              "      <td>5</td>\n",
              "    </tr>\n",
              "    <tr>\n",
              "      <th>...</th>\n",
              "      <td>...</td>\n",
              "      <td>...</td>\n",
              "      <td>...</td>\n",
              "    </tr>\n",
              "    <tr>\n",
              "      <th>9995</th>\n",
              "      <td>_eqQoPtQ3e3UxLE4faT6ow</td>\n",
              "      <td>VY_tvNUCCXGXQeSvJl757Q</td>\n",
              "      <td>3</td>\n",
              "    </tr>\n",
              "    <tr>\n",
              "      <th>9996</th>\n",
              "      <td>ROru4uk5SaYc3rg8IU7SQw</td>\n",
              "      <td>EKzMHI1tip8rC1-ZAy64yg</td>\n",
              "      <td>4</td>\n",
              "    </tr>\n",
              "    <tr>\n",
              "      <th>9997</th>\n",
              "      <td>gGbN1aKQHMgfQZkqlsuwzg</td>\n",
              "      <td>53YGfwmbW73JhFiemNeyzQ</td>\n",
              "      <td>4</td>\n",
              "    </tr>\n",
              "    <tr>\n",
              "      <th>9998</th>\n",
              "      <td>0lyVoNazXa20WzUyZPLaQQ</td>\n",
              "      <td>9SKdOoDHcFoxK5ZtsgHJoA</td>\n",
              "      <td>2</td>\n",
              "    </tr>\n",
              "    <tr>\n",
              "      <th>9999</th>\n",
              "      <td>KSBFytcdjPKZgXKQnYQdkA</td>\n",
              "      <td>pF7uRzygyZsltbmVpjIyvw</td>\n",
              "      <td>5</td>\n",
              "    </tr>\n",
              "  </tbody>\n",
              "</table>\n",
              "<p>10000 rows × 3 columns</p>\n",
              "</div>"
            ],
            "text/plain": [
              "                      userID                  itemID  rating\n",
              "0     rLtl8ZkDX5vH5nAx9C3q5Q  9yKzy9PApeiPPOUJEtnvkg       5\n",
              "1     0a2KyEL0d3Yb1V6aivbIuQ  ZRJwVLyzEJq1VAihDhYiow       5\n",
              "2     0hT2KtfLiobPvh6cDC8JQg  6oRAC4uyJCsJl1X0WZpVSA       4\n",
              "3     uZetl9T0NcROGOyFfughhg  _1QQZuf4zZOyFCvXc0o6Vg       5\n",
              "4     vYmM4KTsC8ZfQBg-j5MWkw  6ozycU1RpktNG2-1BroVtw       5\n",
              "...                      ...                     ...     ...\n",
              "9995  _eqQoPtQ3e3UxLE4faT6ow  VY_tvNUCCXGXQeSvJl757Q       3\n",
              "9996  ROru4uk5SaYc3rg8IU7SQw  EKzMHI1tip8rC1-ZAy64yg       4\n",
              "9997  gGbN1aKQHMgfQZkqlsuwzg  53YGfwmbW73JhFiemNeyzQ       4\n",
              "9998  0lyVoNazXa20WzUyZPLaQQ  9SKdOoDHcFoxK5ZtsgHJoA       2\n",
              "9999  KSBFytcdjPKZgXKQnYQdkA  pF7uRzygyZsltbmVpjIyvw       5\n",
              "\n",
              "[10000 rows x 3 columns]"
            ]
          },
          "metadata": {},
          "execution_count": 7
        }
      ]
    },
    {
      "cell_type": "code",
      "metadata": {
        "colab": {
          "base_uri": "https://localhost:8080/"
        },
        "id": "Qzow61_PLD7E",
        "outputId": "1247eecd-d2ff-4d66-85f3-4d96ec465778"
      },
      "source": [
        "algo.predict(uid='rLtl8ZkDX5vH5nAx9C3q5Q',iid='9yKzy9PApeiPPOUJEtnvkg').est"
      ],
      "execution_count": null,
      "outputs": [
        {
          "output_type": "execute_result",
          "data": {
            "text/plain": [
              "2.822412220389786"
            ]
          },
          "metadata": {},
          "execution_count": 32
        }
      ]
    },
    {
      "cell_type": "markdown",
      "metadata": {
        "id": "po3kLifTcERz"
      },
      "source": [
        "## Comparing all the model performance"
      ]
    },
    {
      "cell_type": "code",
      "metadata": {
        "colab": {
          "base_uri": "https://localhost:8080/"
        },
        "id": "q7EvfITYOrMs",
        "outputId": "04d604de-9976-49b4-8f5e-e57f2d5e3703"
      },
      "source": [
        "acuuracy_table"
      ],
      "execution_count": null,
      "outputs": [
        {
          "output_type": "execute_result",
          "data": {
            "text/plain": [
              "{'BaselineOnly': 1.3999,\n",
              " 'CoClustering': 1.4001,\n",
              " 'KNNBaseline': 1.3999,\n",
              " 'KNNBasic': 1.4001,\n",
              " 'KNNWithMeans': 1.4001,\n",
              " 'KNNWithZScore': 1.4001,\n",
              " 'NMF': 1.4001,\n",
              " 'NormalPredictor': 1.8597,\n",
              " 'SVD': 1.3999,\n",
              " 'SVDpp': 1.3998,\n",
              " 'SlopeOne': 1.4001}"
            ]
          },
          "metadata": {},
          "execution_count": 27
        }
      ]
    },
    {
      "cell_type": "code",
      "metadata": {
        "colab": {
          "base_uri": "https://localhost:8080/",
          "height": 389
        },
        "id": "1zxLBDINPDVG",
        "outputId": "bda9765b-f831-462c-d2b6-5449b4601634"
      },
      "source": [
        "\n",
        "accuracy_x=pd.DataFrame.from_dict(acuuracy_table,orient='index').reset_index()\n",
        "accuracy_x.columns=['model_name','rmse']\n",
        "\n",
        "plt.figure(figsize=(16, 6))\n",
        "ax = sns.barplot(data=accuracy_x, x='model_name', y='rmse')\n"
      ],
      "execution_count": null,
      "outputs": [
        {
          "output_type": "display_data",
          "data": {
            "image/png": "[encoded data removed]",
            "text/plain": [
              "<Figure size 1152x432 with 1 Axes>"
            ]
          },
          "metadata": {
            "needs_background": "light"
          }
        }
      ]
    },
    {
      "cell_type": "markdown",
      "metadata": {
        "id": "osrzJdH3cIYL"
      },
      "source": [
        "We can observe that all the models perfomened in a similar way except Normal Predictor. It has a highest rmse others are almost in the similar rmse score"
      ]
    },
    {
      "cell_type": "markdown",
      "metadata": {
        "id": "1rIWWPxpJ_JE"
      },
      "source": [
        ""
      ]
    },
    {
      "cell_type": "code",
      "metadata": {
        "id": "kihxR1UFJ-37"
      },
      "source": [
        ""
      ],
      "execution_count": null,
      "outputs": []
    },
    {
      "cell_type": "markdown",
      "metadata": {
        "id": "lj_gL1UccWdj"
      },
      "source": [
        "## Creating a function to use Models and then recommend  products\n",
        "\n",
        "In this function we will be getting user id and scan through all the products and return top products that the user might like based on item based collorative filtering.\n",
        "\n",
        "in this approach the liking of user will be kept into consideration as the model is based on user ratings"
      ]
    },
    {
      "cell_type": "code",
      "metadata": {
        "id": "Wg0w0wVnKApF"
      },
      "source": [
        "algo = pickle.load(open('/content/SVDpp.pkl','rb'))"
      ],
      "execution_count": null,
      "outputs": []
    },
    {
      "cell_type": "code",
      "metadata": {
        "id": "oFGMGhHt7S1d"
      },
      "source": [
        ""
      ],
      "execution_count": null,
      "outputs": []
    },
    {
      "cell_type": "code",
      "metadata": {
        "id": "o-Slv98PLSwA"
      },
      "source": [
        "import heapq\n",
        "def get_possible_rating(uid,recommend_number=5):\n",
        "  product={}\n",
        "  for i in df.product_id:\n",
        "    product[i]=algo.predict(uid=uid,iid=i).est\n",
        "\n",
        "  return heapq.nlargest(recommend_number, product.keys(), product.get) "
      ],
      "execution_count": null,
      "outputs": []
    },
    {
      "cell_type": "code",
      "metadata": {
        "colab": {
          "base_uri": "https://localhost:8080/"
        },
        "id": "UrZJ-i1tQBfA",
        "outputId": "b9e9b225-1ce5-417a-8f3c-7ef2e3e19e53"
      },
      "source": [
        "get_possible_rating('reviewer_en_0742686',12)"
      ],
      "execution_count": null,
      "outputs": [
        {
          "output_type": "execute_result",
          "data": {
            "text/plain": [
              "['product_en_0026780',\n",
              " 'product_en_0424139',\n",
              " 'product_en_0391030',\n",
              " 'product_en_0409278',\n",
              " 'product_en_0487124',\n",
              " 'product_en_0947386',\n",
              " 'product_en_0173162',\n",
              " 'product_en_0156087',\n",
              " 'product_en_0360988',\n",
              " 'product_en_0906874',\n",
              " 'product_en_0465743',\n",
              " 'product_en_0138723']"
            ]
          },
          "metadata": {},
          "execution_count": 31
        }
      ]
    },
    {
      "cell_type": "code",
      "metadata": {
        "colab": {
          "base_uri": "https://localhost:8080/",
          "height": 742
        },
        "id": "vXn_2jfBMKK1",
        "outputId": "f34cce83-52b1-4b99-f8dd-273f89cd3344"
      },
      "source": [
        "df"
      ],
      "execution_count": null,
      "outputs": [
        {
          "output_type": "execute_result",
          "data": {
            "text/html": [
              "<div>\n",
              "<style scoped>\n",
              "    .dataframe tbody tr th:only-of-type {\n",
              "        vertical-align: middle;\n",
              "    }\n",
              "\n",
              "    .dataframe tbody tr th {\n",
              "        vertical-align: top;\n",
              "    }\n",
              "\n",
              "    .dataframe thead th {\n",
              "        text-align: right;\n",
              "    }\n",
              "</style>\n",
              "<table border=\"1\" class=\"dataframe\">\n",
              "  <thead>\n",
              "    <tr style=\"text-align: right;\">\n",
              "      <th></th>\n",
              "      <th>review_id</th>\n",
              "      <th>product_id</th>\n",
              "      <th>reviewer_id</th>\n",
              "      <th>stars</th>\n",
              "      <th>review_body</th>\n",
              "      <th>review_title</th>\n",
              "      <th>language</th>\n",
              "      <th>product_category</th>\n",
              "    </tr>\n",
              "  </thead>\n",
              "  <tbody>\n",
              "    <tr>\n",
              "      <th>60124</th>\n",
              "      <td>en_0198486</td>\n",
              "      <td>product_en_0707560</td>\n",
              "      <td>reviewer_en_0236472</td>\n",
              "      <td>2</td>\n",
              "      <td>I like the looks of the clock. Unfortunately, ...</td>\n",
              "      <td>The Clock stopped</td>\n",
              "      <td>en</td>\n",
              "      <td>home</td>\n",
              "    </tr>\n",
              "    <tr>\n",
              "      <th>76664</th>\n",
              "      <td>en_0132853</td>\n",
              "      <td>product_en_0184281</td>\n",
              "      <td>reviewer_en_0109546</td>\n",
              "      <td>2</td>\n",
              "      <td>2 of the 3 ordered came bent to fit inside a t...</td>\n",
              "      <td>Two Stars</td>\n",
              "      <td>en</td>\n",
              "      <td>lawn_and_garden</td>\n",
              "    </tr>\n",
              "    <tr>\n",
              "      <th>91626</th>\n",
              "      <td>en_0063768</td>\n",
              "      <td>product_en_0731178</td>\n",
              "      <td>reviewer_en_0297330</td>\n",
              "      <td>3</td>\n",
              "      <td>I found the black nail parts to fall off easil...</td>\n",
              "      <td>Black Nails fall off</td>\n",
              "      <td>en</td>\n",
              "      <td>lawn_and_garden</td>\n",
              "    </tr>\n",
              "    <tr>\n",
              "      <th>155329</th>\n",
              "      <td>en_0716544</td>\n",
              "      <td>product_en_0419634</td>\n",
              "      <td>reviewer_en_0920268</td>\n",
              "      <td>4</td>\n",
              "      <td>Good for the price point</td>\n",
              "      <td>For yard projects</td>\n",
              "      <td>en</td>\n",
              "      <td>lawn_and_garden</td>\n",
              "    </tr>\n",
              "    <tr>\n",
              "      <th>149826</th>\n",
              "      <td>en_0388580</td>\n",
              "      <td>product_en_0407902</td>\n",
              "      <td>reviewer_en_0358996</td>\n",
              "      <td>4</td>\n",
              "      <td>We ordered the pineapple design and it's a nic...</td>\n",
              "      <td>Nice, but thin</td>\n",
              "      <td>en</td>\n",
              "      <td>home</td>\n",
              "    </tr>\n",
              "    <tr>\n",
              "      <th>...</th>\n",
              "      <td>...</td>\n",
              "      <td>...</td>\n",
              "      <td>...</td>\n",
              "      <td>...</td>\n",
              "      <td>...</td>\n",
              "      <td>...</td>\n",
              "      <td>...</td>\n",
              "      <td>...</td>\n",
              "    </tr>\n",
              "    <tr>\n",
              "      <th>11117</th>\n",
              "      <td>en_0809394</td>\n",
              "      <td>product_en_0142219</td>\n",
              "      <td>reviewer_en_0703036</td>\n",
              "      <td>1</td>\n",
              "      <td>The order came broken What do I do now?</td>\n",
              "      <td>The order came broken</td>\n",
              "      <td>en</td>\n",
              "      <td>wireless</td>\n",
              "    </tr>\n",
              "    <tr>\n",
              "      <th>185655</th>\n",
              "      <td>en_0292687</td>\n",
              "      <td>product_en_0197184</td>\n",
              "      <td>reviewer_en_0928340</td>\n",
              "      <td>5</td>\n",
              "      <td>In a world of post it’s sometimes you just nee...</td>\n",
              "      <td>Exactly as Advertised</td>\n",
              "      <td>en</td>\n",
              "      <td>office_product</td>\n",
              "    </tr>\n",
              "    <tr>\n",
              "      <th>114207</th>\n",
              "      <td>en_0208905</td>\n",
              "      <td>product_en_0736451</td>\n",
              "      <td>reviewer_en_0884313</td>\n",
              "      <td>3</td>\n",
              "      <td>Keeps breaking while printing I've used other ...</td>\n",
              "      <td>Filiment was brittle right from the packaging</td>\n",
              "      <td>en</td>\n",
              "      <td>industrial_supplies</td>\n",
              "    </tr>\n",
              "    <tr>\n",
              "      <th>183903</th>\n",
              "      <td>en_0484662</td>\n",
              "      <td>product_en_0385392</td>\n",
              "      <td>reviewer_en_0061305</td>\n",
              "      <td>5</td>\n",
              "      <td>Although activated charcoal has become a popul...</td>\n",
              "      <td>A noticable difference from the first use!</td>\n",
              "      <td>en</td>\n",
              "      <td>beauty</td>\n",
              "    </tr>\n",
              "    <tr>\n",
              "      <th>17445</th>\n",
              "      <td>en_0617002</td>\n",
              "      <td>product_en_0297687</td>\n",
              "      <td>reviewer_en_0629889</td>\n",
              "      <td>1</td>\n",
              "      <td>Only cut sound....have no reverb at all. Had i...</td>\n",
              "      <td>No Reverb</td>\n",
              "      <td>en</td>\n",
              "      <td>musical_instruments</td>\n",
              "    </tr>\n",
              "  </tbody>\n",
              "</table>\n",
              "<p>10000 rows × 8 columns</p>\n",
              "</div>"
            ],
            "text/plain": [
              "         review_id          product_id  ... language     product_category\n",
              "60124   en_0198486  product_en_0707560  ...       en                 home\n",
              "76664   en_0132853  product_en_0184281  ...       en      lawn_and_garden\n",
              "91626   en_0063768  product_en_0731178  ...       en      lawn_and_garden\n",
              "155329  en_0716544  product_en_0419634  ...       en      lawn_and_garden\n",
              "149826  en_0388580  product_en_0407902  ...       en                 home\n",
              "...            ...                 ...  ...      ...                  ...\n",
              "11117   en_0809394  product_en_0142219  ...       en             wireless\n",
              "185655  en_0292687  product_en_0197184  ...       en       office_product\n",
              "114207  en_0208905  product_en_0736451  ...       en  industrial_supplies\n",
              "183903  en_0484662  product_en_0385392  ...       en               beauty\n",
              "17445   en_0617002  product_en_0297687  ...       en  musical_instruments\n",
              "\n",
              "[10000 rows x 8 columns]"
            ]
          },
          "metadata": {},
          "execution_count": 32
        }
      ]
    },
    {
      "cell_type": "code",
      "metadata": {
        "colab": {
          "base_uri": "https://localhost:8080/"
        },
        "id": "79UnTY7oKcGj",
        "outputId": "57c6d817-e219-4b1f-c147-fe1e21da3d66"
      },
      "source": [
        "import random\n",
        "ix=random.randrange(0, len(df))\n",
        "i=df_new['itemID'].values[ix]\n",
        "get_possible_rating(i,12)"
      ],
      "execution_count": null,
      "outputs": [
        {
          "output_type": "execute_result",
          "data": {
            "text/plain": [
              "['product_en_0026780',\n",
              " 'product_en_0424139',\n",
              " 'product_en_0391030',\n",
              " 'product_en_0409278',\n",
              " 'product_en_0487124',\n",
              " 'product_en_0947386',\n",
              " 'product_en_0173162',\n",
              " 'product_en_0156087',\n",
              " 'product_en_0360988',\n",
              " 'product_en_0906874',\n",
              " 'product_en_0465743',\n",
              " 'product_en_0138723']"
            ]
          },
          "metadata": {},
          "execution_count": 33
        }
      ]
    },
    {
      "cell_type": "code",
      "metadata": {
        "colab": {
          "base_uri": "https://localhost:8080/",
          "height": 742
        },
        "id": "uKbIfaqLIB0g",
        "outputId": "ee8c4ed6-1b6a-4750-b4f7-75380f301b81"
      },
      "source": [
        "df"
      ],
      "execution_count": null,
      "outputs": [
        {
          "output_type": "execute_result",
          "data": {
            "text/html": [
              "<div>\n",
              "<style scoped>\n",
              "    .dataframe tbody tr th:only-of-type {\n",
              "        vertical-align: middle;\n",
              "    }\n",
              "\n",
              "    .dataframe tbody tr th {\n",
              "        vertical-align: top;\n",
              "    }\n",
              "\n",
              "    .dataframe thead th {\n",
              "        text-align: right;\n",
              "    }\n",
              "</style>\n",
              "<table border=\"1\" class=\"dataframe\">\n",
              "  <thead>\n",
              "    <tr style=\"text-align: right;\">\n",
              "      <th></th>\n",
              "      <th>review_id</th>\n",
              "      <th>product_id</th>\n",
              "      <th>reviewer_id</th>\n",
              "      <th>stars</th>\n",
              "      <th>review_body</th>\n",
              "      <th>review_title</th>\n",
              "      <th>language</th>\n",
              "      <th>product_category</th>\n",
              "    </tr>\n",
              "  </thead>\n",
              "  <tbody>\n",
              "    <tr>\n",
              "      <th>60124</th>\n",
              "      <td>en_0198486</td>\n",
              "      <td>product_en_0707560</td>\n",
              "      <td>reviewer_en_0236472</td>\n",
              "      <td>2</td>\n",
              "      <td>I like the looks of the clock. Unfortunately, ...</td>\n",
              "      <td>The Clock stopped</td>\n",
              "      <td>en</td>\n",
              "      <td>home</td>\n",
              "    </tr>\n",
              "    <tr>\n",
              "      <th>76664</th>\n",
              "      <td>en_0132853</td>\n",
              "      <td>product_en_0184281</td>\n",
              "      <td>reviewer_en_0109546</td>\n",
              "      <td>2</td>\n",
              "      <td>2 of the 3 ordered came bent to fit inside a t...</td>\n",
              "      <td>Two Stars</td>\n",
              "      <td>en</td>\n",
              "      <td>lawn_and_garden</td>\n",
              "    </tr>\n",
              "    <tr>\n",
              "      <th>91626</th>\n",
              "      <td>en_0063768</td>\n",
              "      <td>product_en_0731178</td>\n",
              "      <td>reviewer_en_0297330</td>\n",
              "      <td>3</td>\n",
              "      <td>I found the black nail parts to fall off easil...</td>\n",
              "      <td>Black Nails fall off</td>\n",
              "      <td>en</td>\n",
              "      <td>lawn_and_garden</td>\n",
              "    </tr>\n",
              "    <tr>\n",
              "      <th>155329</th>\n",
              "      <td>en_0716544</td>\n",
              "      <td>product_en_0419634</td>\n",
              "      <td>reviewer_en_0920268</td>\n",
              "      <td>4</td>\n",
              "      <td>Good for the price point</td>\n",
              "      <td>For yard projects</td>\n",
              "      <td>en</td>\n",
              "      <td>lawn_and_garden</td>\n",
              "    </tr>\n",
              "    <tr>\n",
              "      <th>149826</th>\n",
              "      <td>en_0388580</td>\n",
              "      <td>product_en_0407902</td>\n",
              "      <td>reviewer_en_0358996</td>\n",
              "      <td>4</td>\n",
              "      <td>We ordered the pineapple design and it's a nic...</td>\n",
              "      <td>Nice, but thin</td>\n",
              "      <td>en</td>\n",
              "      <td>home</td>\n",
              "    </tr>\n",
              "    <tr>\n",
              "      <th>...</th>\n",
              "      <td>...</td>\n",
              "      <td>...</td>\n",
              "      <td>...</td>\n",
              "      <td>...</td>\n",
              "      <td>...</td>\n",
              "      <td>...</td>\n",
              "      <td>...</td>\n",
              "      <td>...</td>\n",
              "    </tr>\n",
              "    <tr>\n",
              "      <th>11117</th>\n",
              "      <td>en_0809394</td>\n",
              "      <td>product_en_0142219</td>\n",
              "      <td>reviewer_en_0703036</td>\n",
              "      <td>1</td>\n",
              "      <td>The order came broken What do I do now?</td>\n",
              "      <td>The order came broken</td>\n",
              "      <td>en</td>\n",
              "      <td>wireless</td>\n",
              "    </tr>\n",
              "    <tr>\n",
              "      <th>185655</th>\n",
              "      <td>en_0292687</td>\n",
              "      <td>product_en_0197184</td>\n",
              "      <td>reviewer_en_0928340</td>\n",
              "      <td>5</td>\n",
              "      <td>In a world of post it’s sometimes you just nee...</td>\n",
              "      <td>Exactly as Advertised</td>\n",
              "      <td>en</td>\n",
              "      <td>office_product</td>\n",
              "    </tr>\n",
              "    <tr>\n",
              "      <th>114207</th>\n",
              "      <td>en_0208905</td>\n",
              "      <td>product_en_0736451</td>\n",
              "      <td>reviewer_en_0884313</td>\n",
              "      <td>3</td>\n",
              "      <td>Keeps breaking while printing I've used other ...</td>\n",
              "      <td>Filiment was brittle right from the packaging</td>\n",
              "      <td>en</td>\n",
              "      <td>industrial_supplies</td>\n",
              "    </tr>\n",
              "    <tr>\n",
              "      <th>183903</th>\n",
              "      <td>en_0484662</td>\n",
              "      <td>product_en_0385392</td>\n",
              "      <td>reviewer_en_0061305</td>\n",
              "      <td>5</td>\n",
              "      <td>Although activated charcoal has become a popul...</td>\n",
              "      <td>A noticable difference from the first use!</td>\n",
              "      <td>en</td>\n",
              "      <td>beauty</td>\n",
              "    </tr>\n",
              "    <tr>\n",
              "      <th>17445</th>\n",
              "      <td>en_0617002</td>\n",
              "      <td>product_en_0297687</td>\n",
              "      <td>reviewer_en_0629889</td>\n",
              "      <td>1</td>\n",
              "      <td>Only cut sound....have no reverb at all. Had i...</td>\n",
              "      <td>No Reverb</td>\n",
              "      <td>en</td>\n",
              "      <td>musical_instruments</td>\n",
              "    </tr>\n",
              "  </tbody>\n",
              "</table>\n",
              "<p>10000 rows × 8 columns</p>\n",
              "</div>"
            ],
            "text/plain": [
              "         review_id          product_id  ... language     product_category\n",
              "60124   en_0198486  product_en_0707560  ...       en                 home\n",
              "76664   en_0132853  product_en_0184281  ...       en      lawn_and_garden\n",
              "91626   en_0063768  product_en_0731178  ...       en      lawn_and_garden\n",
              "155329  en_0716544  product_en_0419634  ...       en      lawn_and_garden\n",
              "149826  en_0388580  product_en_0407902  ...       en                 home\n",
              "...            ...                 ...  ...      ...                  ...\n",
              "11117   en_0809394  product_en_0142219  ...       en             wireless\n",
              "185655  en_0292687  product_en_0197184  ...       en       office_product\n",
              "114207  en_0208905  product_en_0736451  ...       en  industrial_supplies\n",
              "183903  en_0484662  product_en_0385392  ...       en               beauty\n",
              "17445   en_0617002  product_en_0297687  ...       en  musical_instruments\n",
              "\n",
              "[10000 rows x 8 columns]"
            ]
          },
          "metadata": {},
          "execution_count": 34
        }
      ]
    },
    {
      "cell_type": "markdown",
      "metadata": {
        "id": "l7rgQT7OIBlR"
      },
      "source": [
        ""
      ]
    },
    {
      "cell_type": "code",
      "metadata": {
        "colab": {
          "base_uri": "https://localhost:8080/",
          "height": 419
        },
        "id": "kenUTcuGEzTD",
        "outputId": "cb33985c-f872-435b-acd3-bdc628bff4c7"
      },
      "source": [
        "df=df_new\n",
        "\n",
        "df"
      ],
      "execution_count": null,
      "outputs": [
        {
          "output_type": "execute_result",
          "data": {
            "text/html": [
              "<div>\n",
              "<style scoped>\n",
              "    .dataframe tbody tr th:only-of-type {\n",
              "        vertical-align: middle;\n",
              "    }\n",
              "\n",
              "    .dataframe tbody tr th {\n",
              "        vertical-align: top;\n",
              "    }\n",
              "\n",
              "    .dataframe thead th {\n",
              "        text-align: right;\n",
              "    }\n",
              "</style>\n",
              "<table border=\"1\" class=\"dataframe\">\n",
              "  <thead>\n",
              "    <tr style=\"text-align: right;\">\n",
              "      <th></th>\n",
              "      <th>userID</th>\n",
              "      <th>itemID</th>\n",
              "      <th>rating</th>\n",
              "    </tr>\n",
              "  </thead>\n",
              "  <tbody>\n",
              "    <tr>\n",
              "      <th>60124</th>\n",
              "      <td>reviewer_en_0236472</td>\n",
              "      <td>product_en_0707560</td>\n",
              "      <td>2</td>\n",
              "    </tr>\n",
              "    <tr>\n",
              "      <th>76664</th>\n",
              "      <td>reviewer_en_0109546</td>\n",
              "      <td>product_en_0184281</td>\n",
              "      <td>2</td>\n",
              "    </tr>\n",
              "    <tr>\n",
              "      <th>91626</th>\n",
              "      <td>reviewer_en_0297330</td>\n",
              "      <td>product_en_0731178</td>\n",
              "      <td>3</td>\n",
              "    </tr>\n",
              "    <tr>\n",
              "      <th>155329</th>\n",
              "      <td>reviewer_en_0920268</td>\n",
              "      <td>product_en_0419634</td>\n",
              "      <td>4</td>\n",
              "    </tr>\n",
              "    <tr>\n",
              "      <th>149826</th>\n",
              "      <td>reviewer_en_0358996</td>\n",
              "      <td>product_en_0407902</td>\n",
              "      <td>4</td>\n",
              "    </tr>\n",
              "    <tr>\n",
              "      <th>...</th>\n",
              "      <td>...</td>\n",
              "      <td>...</td>\n",
              "      <td>...</td>\n",
              "    </tr>\n",
              "    <tr>\n",
              "      <th>11117</th>\n",
              "      <td>reviewer_en_0703036</td>\n",
              "      <td>product_en_0142219</td>\n",
              "      <td>1</td>\n",
              "    </tr>\n",
              "    <tr>\n",
              "      <th>185655</th>\n",
              "      <td>reviewer_en_0928340</td>\n",
              "      <td>product_en_0197184</td>\n",
              "      <td>5</td>\n",
              "    </tr>\n",
              "    <tr>\n",
              "      <th>114207</th>\n",
              "      <td>reviewer_en_0884313</td>\n",
              "      <td>product_en_0736451</td>\n",
              "      <td>3</td>\n",
              "    </tr>\n",
              "    <tr>\n",
              "      <th>183903</th>\n",
              "      <td>reviewer_en_0061305</td>\n",
              "      <td>product_en_0385392</td>\n",
              "      <td>5</td>\n",
              "    </tr>\n",
              "    <tr>\n",
              "      <th>17445</th>\n",
              "      <td>reviewer_en_0629889</td>\n",
              "      <td>product_en_0297687</td>\n",
              "      <td>1</td>\n",
              "    </tr>\n",
              "  </tbody>\n",
              "</table>\n",
              "<p>10000 rows × 3 columns</p>\n",
              "</div>"
            ],
            "text/plain": [
              "                     userID              itemID  rating\n",
              "60124   reviewer_en_0236472  product_en_0707560       2\n",
              "76664   reviewer_en_0109546  product_en_0184281       2\n",
              "91626   reviewer_en_0297330  product_en_0731178       3\n",
              "155329  reviewer_en_0920268  product_en_0419634       4\n",
              "149826  reviewer_en_0358996  product_en_0407902       4\n",
              "...                     ...                 ...     ...\n",
              "11117   reviewer_en_0703036  product_en_0142219       1\n",
              "185655  reviewer_en_0928340  product_en_0197184       5\n",
              "114207  reviewer_en_0884313  product_en_0736451       3\n",
              "183903  reviewer_en_0061305  product_en_0385392       5\n",
              "17445   reviewer_en_0629889  product_en_0297687       1\n",
              "\n",
              "[10000 rows x 3 columns]"
            ]
          },
          "metadata": {},
          "execution_count": 35
        }
      ]
    },
    {
      "cell_type": "markdown",
      "metadata": {
        "id": "QKToRMEkc1XN"
      },
      "source": [
        "## Model Based Collobartive filtering\n"
      ]
    },
    {
      "cell_type": "markdown",
      "metadata": {
        "id": "ryUEn_6QdBQ0"
      },
      "source": [
        "Preprocessing for model based collaborative filtering.\n"
      ]
    },
    {
      "cell_type": "code",
      "metadata": {
        "colab": {
          "base_uri": "https://localhost:8080/",
          "height": 847
        },
        "id": "7r6O0meWSGCJ",
        "outputId": "3b9ec7a8-68c9-40fc-ddf3-5133fa348f26"
      },
      "source": [
        "df"
      ],
      "execution_count": null,
      "outputs": [
        {
          "output_type": "execute_result",
          "data": {
            "text/html": [
              "<div>\n",
              "<style scoped>\n",
              "    .dataframe tbody tr th:only-of-type {\n",
              "        vertical-align: middle;\n",
              "    }\n",
              "\n",
              "    .dataframe tbody tr th {\n",
              "        vertical-align: top;\n",
              "    }\n",
              "\n",
              "    .dataframe thead th {\n",
              "        text-align: right;\n",
              "    }\n",
              "</style>\n",
              "<table border=\"1\" class=\"dataframe\">\n",
              "  <thead>\n",
              "    <tr style=\"text-align: right;\">\n",
              "      <th></th>\n",
              "      <th>business_id</th>\n",
              "      <th>date</th>\n",
              "      <th>review_id</th>\n",
              "      <th>stars</th>\n",
              "      <th>text</th>\n",
              "      <th>type</th>\n",
              "      <th>user_id</th>\n",
              "      <th>cool</th>\n",
              "      <th>useful</th>\n",
              "      <th>funny</th>\n",
              "    </tr>\n",
              "  </thead>\n",
              "  <tbody>\n",
              "    <tr>\n",
              "      <th>0</th>\n",
              "      <td>9yKzy9PApeiPPOUJEtnvkg</td>\n",
              "      <td>2011-01-26</td>\n",
              "      <td>fWKvX83p0-ka4JS3dc6E5A</td>\n",
              "      <td>5</td>\n",
              "      <td>My wife took me here on my birthday for breakf...</td>\n",
              "      <td>review</td>\n",
              "      <td>rLtl8ZkDX5vH5nAx9C3q5Q</td>\n",
              "      <td>2</td>\n",
              "      <td>5</td>\n",
              "      <td>0</td>\n",
              "    </tr>\n",
              "    <tr>\n",
              "      <th>1</th>\n",
              "      <td>ZRJwVLyzEJq1VAihDhYiow</td>\n",
              "      <td>2011-07-27</td>\n",
              "      <td>IjZ33sJrzXqU-0X6U8NwyA</td>\n",
              "      <td>5</td>\n",
              "      <td>I have no idea why some people give bad review...</td>\n",
              "      <td>review</td>\n",
              "      <td>0a2KyEL0d3Yb1V6aivbIuQ</td>\n",
              "      <td>0</td>\n",
              "      <td>0</td>\n",
              "      <td>0</td>\n",
              "    </tr>\n",
              "    <tr>\n",
              "      <th>2</th>\n",
              "      <td>6oRAC4uyJCsJl1X0WZpVSA</td>\n",
              "      <td>2012-06-14</td>\n",
              "      <td>IESLBzqUCLdSzSqm0eCSxQ</td>\n",
              "      <td>4</td>\n",
              "      <td>love the gyro plate. Rice is so good and I als...</td>\n",
              "      <td>review</td>\n",
              "      <td>0hT2KtfLiobPvh6cDC8JQg</td>\n",
              "      <td>0</td>\n",
              "      <td>1</td>\n",
              "      <td>0</td>\n",
              "    </tr>\n",
              "    <tr>\n",
              "      <th>3</th>\n",
              "      <td>_1QQZuf4zZOyFCvXc0o6Vg</td>\n",
              "      <td>2010-05-27</td>\n",
              "      <td>G-WvGaISbqqaMHlNnByodA</td>\n",
              "      <td>5</td>\n",
              "      <td>Rosie, Dakota, and I LOVE Chaparral Dog Park!!...</td>\n",
              "      <td>review</td>\n",
              "      <td>uZetl9T0NcROGOyFfughhg</td>\n",
              "      <td>1</td>\n",
              "      <td>2</td>\n",
              "      <td>0</td>\n",
              "    </tr>\n",
              "    <tr>\n",
              "      <th>4</th>\n",
              "      <td>6ozycU1RpktNG2-1BroVtw</td>\n",
              "      <td>2012-01-05</td>\n",
              "      <td>1uJFq2r5QfJG_6ExMRCaGw</td>\n",
              "      <td>5</td>\n",
              "      <td>General Manager Scott Petello is a good egg!!!...</td>\n",
              "      <td>review</td>\n",
              "      <td>vYmM4KTsC8ZfQBg-j5MWkw</td>\n",
              "      <td>0</td>\n",
              "      <td>0</td>\n",
              "      <td>0</td>\n",
              "    </tr>\n",
              "    <tr>\n",
              "      <th>...</th>\n",
              "      <td>...</td>\n",
              "      <td>...</td>\n",
              "      <td>...</td>\n",
              "      <td>...</td>\n",
              "      <td>...</td>\n",
              "      <td>...</td>\n",
              "      <td>...</td>\n",
              "      <td>...</td>\n",
              "      <td>...</td>\n",
              "      <td>...</td>\n",
              "    </tr>\n",
              "    <tr>\n",
              "      <th>9995</th>\n",
              "      <td>VY_tvNUCCXGXQeSvJl757Q</td>\n",
              "      <td>2012-07-28</td>\n",
              "      <td>Ubyfp2RSDYW0g7Mbr8N3iA</td>\n",
              "      <td>3</td>\n",
              "      <td>First visit...Had lunch here today - used my G...</td>\n",
              "      <td>review</td>\n",
              "      <td>_eqQoPtQ3e3UxLE4faT6ow</td>\n",
              "      <td>1</td>\n",
              "      <td>2</td>\n",
              "      <td>0</td>\n",
              "    </tr>\n",
              "    <tr>\n",
              "      <th>9996</th>\n",
              "      <td>EKzMHI1tip8rC1-ZAy64yg</td>\n",
              "      <td>2012-01-18</td>\n",
              "      <td>2XyIOQKbVFb6uXQdJ0RzlQ</td>\n",
              "      <td>4</td>\n",
              "      <td>Should be called house of deliciousness!\\n\\nI ...</td>\n",
              "      <td>review</td>\n",
              "      <td>ROru4uk5SaYc3rg8IU7SQw</td>\n",
              "      <td>0</td>\n",
              "      <td>0</td>\n",
              "      <td>0</td>\n",
              "    </tr>\n",
              "    <tr>\n",
              "      <th>9997</th>\n",
              "      <td>53YGfwmbW73JhFiemNeyzQ</td>\n",
              "      <td>2010-11-16</td>\n",
              "      <td>jyznYkIbpqVmlsZxSDSypA</td>\n",
              "      <td>4</td>\n",
              "      <td>I recently visited Olive and Ivy for business ...</td>\n",
              "      <td>review</td>\n",
              "      <td>gGbN1aKQHMgfQZkqlsuwzg</td>\n",
              "      <td>0</td>\n",
              "      <td>0</td>\n",
              "      <td>0</td>\n",
              "    </tr>\n",
              "    <tr>\n",
              "      <th>9998</th>\n",
              "      <td>9SKdOoDHcFoxK5ZtsgHJoA</td>\n",
              "      <td>2012-12-02</td>\n",
              "      <td>5UKq9WQE1qQbJ0DJbc-B6Q</td>\n",
              "      <td>2</td>\n",
              "      <td>My nephew just moved to Scottsdale recently so...</td>\n",
              "      <td>review</td>\n",
              "      <td>0lyVoNazXa20WzUyZPLaQQ</td>\n",
              "      <td>0</td>\n",
              "      <td>0</td>\n",
              "      <td>0</td>\n",
              "    </tr>\n",
              "    <tr>\n",
              "      <th>9999</th>\n",
              "      <td>pF7uRzygyZsltbmVpjIyvw</td>\n",
              "      <td>2010-10-16</td>\n",
              "      <td>vWSmOhg2ID1MNZHaWapGbA</td>\n",
              "      <td>5</td>\n",
              "      <td>4-5 locations.. all 4.5 star average.. I think...</td>\n",
              "      <td>review</td>\n",
              "      <td>KSBFytcdjPKZgXKQnYQdkA</td>\n",
              "      <td>0</td>\n",
              "      <td>0</td>\n",
              "      <td>0</td>\n",
              "    </tr>\n",
              "  </tbody>\n",
              "</table>\n",
              "<p>10000 rows × 10 columns</p>\n",
              "</div>"
            ],
            "text/plain": [
              "                 business_id        date  ... useful  funny\n",
              "0     9yKzy9PApeiPPOUJEtnvkg  2011-01-26  ...      5      0\n",
              "1     ZRJwVLyzEJq1VAihDhYiow  2011-07-27  ...      0      0\n",
              "2     6oRAC4uyJCsJl1X0WZpVSA  2012-06-14  ...      1      0\n",
              "3     _1QQZuf4zZOyFCvXc0o6Vg  2010-05-27  ...      2      0\n",
              "4     6ozycU1RpktNG2-1BroVtw  2012-01-05  ...      0      0\n",
              "...                      ...         ...  ...    ...    ...\n",
              "9995  VY_tvNUCCXGXQeSvJl757Q  2012-07-28  ...      2      0\n",
              "9996  EKzMHI1tip8rC1-ZAy64yg  2012-01-18  ...      0      0\n",
              "9997  53YGfwmbW73JhFiemNeyzQ  2010-11-16  ...      0      0\n",
              "9998  9SKdOoDHcFoxK5ZtsgHJoA  2012-12-02  ...      0      0\n",
              "9999  pF7uRzygyZsltbmVpjIyvw  2010-10-16  ...      0      0\n",
              "\n",
              "[10000 rows x 10 columns]"
            ]
          },
          "metadata": {},
          "execution_count": 33
        }
      ]
    },
    {
      "cell_type": "code",
      "metadata": {
        "colab": {
          "base_uri": "https://localhost:8080/",
          "height": 419
        },
        "id": "0oKx0d-6SHyx",
        "outputId": "20bd0d9a-8dfc-4181-d9e3-24b4ae960b23"
      },
      "source": [
        "df_new"
      ],
      "execution_count": null,
      "outputs": [
        {
          "output_type": "execute_result",
          "data": {
            "text/html": [
              "<div>\n",
              "<style scoped>\n",
              "    .dataframe tbody tr th:only-of-type {\n",
              "        vertical-align: middle;\n",
              "    }\n",
              "\n",
              "    .dataframe tbody tr th {\n",
              "        vertical-align: top;\n",
              "    }\n",
              "\n",
              "    .dataframe thead th {\n",
              "        text-align: right;\n",
              "    }\n",
              "</style>\n",
              "<table border=\"1\" class=\"dataframe\">\n",
              "  <thead>\n",
              "    <tr style=\"text-align: right;\">\n",
              "      <th></th>\n",
              "      <th>userID</th>\n",
              "      <th>itemID</th>\n",
              "      <th>rating</th>\n",
              "    </tr>\n",
              "  </thead>\n",
              "  <tbody>\n",
              "    <tr>\n",
              "      <th>0</th>\n",
              "      <td>rLtl8ZkDX5vH5nAx9C3q5Q</td>\n",
              "      <td>9yKzy9PApeiPPOUJEtnvkg</td>\n",
              "      <td>5</td>\n",
              "    </tr>\n",
              "    <tr>\n",
              "      <th>1</th>\n",
              "      <td>0a2KyEL0d3Yb1V6aivbIuQ</td>\n",
              "      <td>ZRJwVLyzEJq1VAihDhYiow</td>\n",
              "      <td>5</td>\n",
              "    </tr>\n",
              "    <tr>\n",
              "      <th>2</th>\n",
              "      <td>0hT2KtfLiobPvh6cDC8JQg</td>\n",
              "      <td>6oRAC4uyJCsJl1X0WZpVSA</td>\n",
              "      <td>4</td>\n",
              "    </tr>\n",
              "    <tr>\n",
              "      <th>3</th>\n",
              "      <td>uZetl9T0NcROGOyFfughhg</td>\n",
              "      <td>_1QQZuf4zZOyFCvXc0o6Vg</td>\n",
              "      <td>5</td>\n",
              "    </tr>\n",
              "    <tr>\n",
              "      <th>4</th>\n",
              "      <td>vYmM4KTsC8ZfQBg-j5MWkw</td>\n",
              "      <td>6ozycU1RpktNG2-1BroVtw</td>\n",
              "      <td>5</td>\n",
              "    </tr>\n",
              "    <tr>\n",
              "      <th>...</th>\n",
              "      <td>...</td>\n",
              "      <td>...</td>\n",
              "      <td>...</td>\n",
              "    </tr>\n",
              "    <tr>\n",
              "      <th>9995</th>\n",
              "      <td>_eqQoPtQ3e3UxLE4faT6ow</td>\n",
              "      <td>VY_tvNUCCXGXQeSvJl757Q</td>\n",
              "      <td>3</td>\n",
              "    </tr>\n",
              "    <tr>\n",
              "      <th>9996</th>\n",
              "      <td>ROru4uk5SaYc3rg8IU7SQw</td>\n",
              "      <td>EKzMHI1tip8rC1-ZAy64yg</td>\n",
              "      <td>4</td>\n",
              "    </tr>\n",
              "    <tr>\n",
              "      <th>9997</th>\n",
              "      <td>gGbN1aKQHMgfQZkqlsuwzg</td>\n",
              "      <td>53YGfwmbW73JhFiemNeyzQ</td>\n",
              "      <td>4</td>\n",
              "    </tr>\n",
              "    <tr>\n",
              "      <th>9998</th>\n",
              "      <td>0lyVoNazXa20WzUyZPLaQQ</td>\n",
              "      <td>9SKdOoDHcFoxK5ZtsgHJoA</td>\n",
              "      <td>2</td>\n",
              "    </tr>\n",
              "    <tr>\n",
              "      <th>9999</th>\n",
              "      <td>KSBFytcdjPKZgXKQnYQdkA</td>\n",
              "      <td>pF7uRzygyZsltbmVpjIyvw</td>\n",
              "      <td>5</td>\n",
              "    </tr>\n",
              "  </tbody>\n",
              "</table>\n",
              "<p>10000 rows × 3 columns</p>\n",
              "</div>"
            ],
            "text/plain": [
              "                      userID                  itemID  rating\n",
              "0     rLtl8ZkDX5vH5nAx9C3q5Q  9yKzy9PApeiPPOUJEtnvkg       5\n",
              "1     0a2KyEL0d3Yb1V6aivbIuQ  ZRJwVLyzEJq1VAihDhYiow       5\n",
              "2     0hT2KtfLiobPvh6cDC8JQg  6oRAC4uyJCsJl1X0WZpVSA       4\n",
              "3     uZetl9T0NcROGOyFfughhg  _1QQZuf4zZOyFCvXc0o6Vg       5\n",
              "4     vYmM4KTsC8ZfQBg-j5MWkw  6ozycU1RpktNG2-1BroVtw       5\n",
              "...                      ...                     ...     ...\n",
              "9995  _eqQoPtQ3e3UxLE4faT6ow  VY_tvNUCCXGXQeSvJl757Q       3\n",
              "9996  ROru4uk5SaYc3rg8IU7SQw  EKzMHI1tip8rC1-ZAy64yg       4\n",
              "9997  gGbN1aKQHMgfQZkqlsuwzg  53YGfwmbW73JhFiemNeyzQ       4\n",
              "9998  0lyVoNazXa20WzUyZPLaQQ  9SKdOoDHcFoxK5ZtsgHJoA       2\n",
              "9999  KSBFytcdjPKZgXKQnYQdkA  pF7uRzygyZsltbmVpjIyvw       5\n",
              "\n",
              "[10000 rows x 3 columns]"
            ]
          },
          "metadata": {},
          "execution_count": 34
        }
      ]
    },
    {
      "cell_type": "code",
      "metadata": {
        "id": "eE6EKuRUDQ7e"
      },
      "source": [
        "ratings_matrix = df_new.pivot_table(values='rating', index='userID', columns='itemID', fill_value=0)\n"
      ],
      "execution_count": null,
      "outputs": []
    },
    {
      "cell_type": "code",
      "metadata": {
        "id": "tl7waxzBH_h8"
      },
      "source": [
        "X = ratings_matrix.T"
      ],
      "execution_count": null,
      "outputs": []
    },
    {
      "cell_type": "code",
      "metadata": {
        "colab": {
          "base_uri": "https://localhost:8080/"
        },
        "id": "ul_1Qk8rU-EI",
        "outputId": "1e221eb0-6777-4024-abf5-c138bf1b9ad0"
      },
      "source": [
        "type(X)"
      ],
      "execution_count": null,
      "outputs": [
        {
          "output_type": "execute_result",
          "data": {
            "text/plain": [
              "pandas.core.frame.DataFrame"
            ]
          },
          "metadata": {},
          "execution_count": 10
        }
      ]
    },
    {
      "cell_type": "code",
      "metadata": {
        "id": "HrMR6hH1VDYx"
      },
      "source": [
        "X.to_csv('X.csv')"
      ],
      "execution_count": null,
      "outputs": []
    },
    {
      "cell_type": "code",
      "metadata": {
        "id": "CQPhBwKRISNh"
      },
      "source": [
        "X1 = X"
      ],
      "execution_count": null,
      "outputs": []
    },
    {
      "cell_type": "code",
      "metadata": {
        "colab": {
          "base_uri": "https://localhost:8080/"
        },
        "id": "Uf00sTpsIMYC",
        "outputId": "8f7e2bef-da77-4064-e077-2dc3d104f74a"
      },
      "source": [
        "from sklearn.decomposition import TruncatedSVD\n",
        "SVD = TruncatedSVD(n_components=10)\n",
        "decomposed_matrix = SVD.fit_transform(X)\n",
        "decomposed_matrix.shape"
      ],
      "execution_count": null,
      "outputs": [
        {
          "output_type": "execute_result",
          "data": {
            "text/plain": [
              "(4174, 10)"
            ]
          },
          "metadata": {},
          "execution_count": 13
        }
      ]
    },
    {
      "cell_type": "code",
      "metadata": {
        "id": "onQZaF5NIStK"
      },
      "source": [
        "import numpy as np\n",
        "correlation_matrix = np.corrcoef(decomposed_matrix)"
      ],
      "execution_count": null,
      "outputs": []
    },
    {
      "cell_type": "code",
      "metadata": {
        "id": "y0AzTBdJTqKg"
      },
      "source": [
        "np.save('outfile', correlation_matrix)\n"
      ],
      "execution_count": null,
      "outputs": []
    },
    {
      "cell_type": "code",
      "metadata": {
        "id": "pWgfbnUtIaOW"
      },
      "source": [
        "import random\n",
        "ix=random.randrange(0, len(df))\n"
      ],
      "execution_count": null,
      "outputs": []
    },
    {
      "cell_type": "code",
      "metadata": {
        "colab": {
          "base_uri": "https://localhost:8080/",
          "height": 37
        },
        "id": "0GWh1CcYSYtu",
        "outputId": "4943ef64-d91f-44a6-d39c-4e22e983367d"
      },
      "source": [
        "i"
      ],
      "execution_count": null,
      "outputs": [
        {
          "output_type": "execute_result",
          "data": {
            "application/vnd.google.colaboratory.intrinsic+json": {
              "type": "string"
            },
            "text/plain": [
              "'_tkAI5Q5XQSfgbqJzDKSDQ'"
            ]
          },
          "metadata": {},
          "execution_count": 44
        }
      ]
    },
    {
      "cell_type": "code",
      "metadata": {
        "id": "9_wlduGaIgEt"
      },
      "source": [
        "def recommend_restaurants(i,n=5):\n",
        "  correlation_matrix=np.load('/content/outfile.npy')\n",
        "  X=pd.read_csv('X.csv', index_col=0)\n",
        "  product_names = list(X.index)\n",
        "  product_ID = product_names.index(i)\n",
        "  correlation_product_ID = correlation_matrix[product_ID]\n",
        "  Recommend = list(X.index[correlation_product_ID > 0.65])\n",
        "\n",
        "  # Removes the item already bought by the customer\n",
        "  Recommend.remove(i) \n",
        "  return Recommend[0:n]"
      ],
      "execution_count": null,
      "outputs": []
    },
    {
      "cell_type": "code",
      "metadata": {
        "id": "1j2BA8-mVtht"
      },
      "source": [
        ""
      ],
      "execution_count": null,
      "outputs": []
    },
    {
      "cell_type": "code",
      "metadata": {
        "colab": {
          "base_uri": "https://localhost:8080/"
        },
        "id": "lwrS1iomImSW",
        "outputId": "94187251-3f66-4dfa-eb68-c9accd02c7d0"
      },
      "source": [
        "recommend_restaurants('-0QBrNvhrPQCaeo7mTo0zQ',n=5)"
      ],
      "execution_count": null,
      "outputs": [
        {
          "output_type": "execute_result",
          "data": {
            "text/plain": [
              "['-A5CFmkgdMEggaihtyxX4Q',\n",
              " '-b_VjHZmA7-8LVWp6z36VA',\n",
              " '-sC66z4SO3tR7nFCjfQwuQ',\n",
              " '0K634ehk41ZRc4kj3NTAEQ',\n",
              " '1-1VcGTL3GyCqUpXZLFTZA']"
            ]
          },
          "metadata": {},
          "execution_count": 17
        }
      ]
    },
    {
      "cell_type": "code",
      "metadata": {
        "id": "Rlxu0_a5J7w3"
      },
      "source": [
        ""
      ],
      "execution_count": null,
      "outputs": []
    },
    {
      "cell_type": "code",
      "metadata": {
        "id": "vx6SqtOjVkXU"
      },
      "source": [
        ""
      ],
      "execution_count": null,
      "outputs": []
    }
  ]
}